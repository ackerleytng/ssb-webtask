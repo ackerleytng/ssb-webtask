{
 "cells": [
  {
   "cell_type": "code",
   "execution_count": 1,
   "metadata": {},
   "outputs": [],
   "source": [
    "june_2018_interest = [1.68, 2.14, 2.21, 2.21, 2.30, 2.52, 2.67, 2.81, 2.96, 3.12]"
   ]
  },
  {
   "cell_type": "code",
   "execution_count": 2,
   "metadata": {},
   "outputs": [],
   "source": [
    "aug_2018_interest = [1.78, 2.16, 2.37, 2.54, 2.67, 2.76, 2.81, 2.86, 2.95, 3.11]"
   ]
  },
  {
   "cell_type": "code",
   "execution_count": 3,
   "metadata": {},
   "outputs": [],
   "source": [
    "def effective_interest_rate(interests, num_months_going_to_hold):\n",
    "    bond_duration = len(interests)\n",
    "    years = num_months_going_to_hold // 12\n",
    "    \n",
    "    if years >= bond_duration:\n",
    "        return sum(interests) / bond_duration\n",
    "    \n",
    "    months = num_months_going_to_hold % 12    \n",
    "    monthly_rate = [i / 12 for i in interests]\n",
    "    \n",
    "    total_interest = sum(monthly_rate[0:years]) * 12\n",
    "    if months > 0:\n",
    "        # Interest was gained in the partial year\n",
    "        total_interest += months * monthly_rate[years]\n",
    "        \n",
    "    return total_interest / num_months_going_to_hold * 12"
   ]
  },
  {
   "cell_type": "code",
   "execution_count": 4,
   "metadata": {},
   "outputs": [],
   "source": [
    "def average(l):\n",
    "    return sum(l) / len(l)"
   ]
  },
  {
   "cell_type": "code",
   "execution_count": 5,
   "metadata": {},
   "outputs": [],
   "source": [
    "def effective_monthly_interest_rate(interests, num_months_in, num_months_going_to_hold):\n",
    "    monthly_interests = [i / 12 for i in interests for x in range(12)]\n",
    "    remaining_months = len(monthly_interests) - num_months_in\n",
    "    \n",
    "    months_to_hold = min(remaining_months, num_months_going_to_hold)\n",
    "    \n",
    "    return average(monthly_interests[num_months_in:num_months_in + months_to_hold])"
   ]
  },
  {
   "cell_type": "code",
   "execution_count": 6,
   "metadata": {},
   "outputs": [
    {
     "data": {
      "text/plain": [
       "85.1900000000001"
      ]
     },
     "execution_count": 6,
     "metadata": {},
     "output_type": "execute_result"
    }
   ],
   "source": [
    "effective_monthly_interest_rate(june_2018_interest, 2, 118) * 118 / 100 * 350"
   ]
  },
  {
   "cell_type": "code",
   "execution_count": 7,
   "metadata": {},
   "outputs": [
    {
     "data": {
      "text/plain": [
       "89.22083333333332"
      ]
     },
     "execution_count": 7,
     "metadata": {},
     "output_type": "execute_result"
    }
   ],
   "source": [
    "effective_monthly_interest_rate(aug_2018_interest, 0, 118) * 118 / 100 * 350"
   ]
  },
  {
   "cell_type": "code",
   "execution_count": 8,
   "metadata": {},
   "outputs": [],
   "source": [
    "def min_amt_for_switching_to_be_worth_it(prev_interests, curr_interests, num_months_in, num_months_plan_to_hold):\n",
    "    actual_months_can_hold = min(120 - num_months_in, num_months_plan_to_hold)\n",
    "    \n",
    "    prev_effective_monthly_interest_rate = effective_monthly_interest_rate(prev_interests, num_months_in, actual_months_can_hold)\n",
    "    curr_effective_monthly_interest_rate = effective_monthly_interest_rate(curr_interests, 0, actual_months_can_hold)\n",
    "    \n",
    "    # Worth it if amount_of_money_in_ssb * (curr_effective_monthly_interest_rate - prev_effective_monthly_interest_rate) / 100 * actual_months_can_hold > 4 (transaction fees)\n",
    "    return 400 / actual_months_can_hold / (curr_effective_monthly_interest_rate - prev_effective_monthly_interest_rate)"
   ]
  },
  {
   "cell_type": "code",
   "execution_count": 9,
   "metadata": {},
   "outputs": [
    {
     "data": {
      "text/plain": [
       "347.322720694655"
      ]
     },
     "execution_count": 9,
     "metadata": {},
     "output_type": "execute_result"
    }
   ],
   "source": [
    "min_amt_for_switching_to_be_worth_it(june_2018_interest, aug_2018_interest, 2, 120)"
   ]
  },
  {
   "cell_type": "code",
   "execution_count": 10,
   "metadata": {},
   "outputs": [
    {
     "data": {
      "text/plain": [
       "47999.99999999985"
      ]
     },
     "execution_count": 10,
     "metadata": {},
     "output_type": "execute_result"
    }
   ],
   "source": [
    "# only intending to keep for 1 month (can switch, but only if you are going to switch a lot of money)\n",
    "min_amt_for_switching_to_be_worth_it(june_2018_interest, aug_2018_interest, 2, 1)"
   ]
  },
  {
   "cell_type": "code",
   "execution_count": 11,
   "metadata": {},
   "outputs": [
    {
     "data": {
      "text/plain": [
       "-247.93388429752574"
      ]
     },
     "execution_count": 11,
     "metadata": {},
     "output_type": "execute_result"
    }
   ],
   "source": [
    "# Sanity check: Never worth switching to lower amount\n",
    "min_amt_for_switching_to_be_worth_it(aug_2018_interest, june_2018_interest, 2, 120)"
   ]
  }
 ],
 "metadata": {
  "kernelspec": {
   "display_name": "Python 3",
   "language": "python",
   "name": "python3"
  },
  "language_info": {
   "codemirror_mode": {
    "name": "ipython",
    "version": 3
   },
   "file_extension": ".py",
   "mimetype": "text/x-python",
   "name": "python",
   "nbconvert_exporter": "python",
   "pygments_lexer": "ipython3",
   "version": "3.7.0"
  }
 },
 "nbformat": 4,
 "nbformat_minor": 2
}
